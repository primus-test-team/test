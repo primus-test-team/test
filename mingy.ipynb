{
 "cells": [
  {
   "cell_type": "code",
   "execution_count": 3,
   "id": "154590d8",
   "metadata": {},
   "outputs": [
    {
     "name": "stdout",
     "output_type": "stream",
     "text": [
      "죄송해여 제가 예비군 떄문에 수업을 못들어서 문제 푸느라고 못했어요 ㅠㅠ 곧 만들어 올게여 ㅠㅠ\n"
     ]
    }
   ],
   "source": [
    "print(\"죄송해여 제가 예비군 떄문에 수업을 못들어서 문제 푸느라고 못했어요 ㅠㅠ 곧 만들어 올게여 ㅠㅠ\")"
   ]
  }
 ],
 "metadata": {
  "language_info": {
   "name": "python"
  }
 },
 "nbformat": 4,
 "nbformat_minor": 5
}

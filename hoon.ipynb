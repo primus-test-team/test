{
 "cells": [
  {
   "cell_type": "code",
   "execution_count": 1,
   "id": "c9c9d552",
   "metadata": {},
   "outputs": [
    {
     "name": "stdout",
     "output_type": "stream",
     "text": [
      "훈이의 꿀잼 함수는 집 맥북에 있습니다 헿....\n"
     ]
    }
   ],
   "source": [
    "print(\"훈이의 꿀잼 함수는 집 맥북에 있습니다 헿....\")"
   ]
  },
  {
   "cell_type": "code",
   "execution_count": null,
   "id": "a25b2f5f",
   "metadata": {},
   "outputs": [
    {
     "name": "stdout",
     "output_type": "stream",
     "text": [
      "손병호 게임 시작!\n"
     ]
    }
   ],
   "source": [
    "print(\"손병호 게임 시작!!!\")"
   ]
  }
 ],
 "metadata": {
  "kernelspec": {
   "display_name": "pystudy_env",
   "language": "python",
   "name": "python3"
  },
  "language_info": {
   "codemirror_mode": {
    "name": "ipython",
    "version": 3
   },
   "file_extension": ".py",
   "mimetype": "text/x-python",
   "name": "python",
   "nbconvert_exporter": "python",
   "pygments_lexer": "ipython3",
   "version": "3.12.11"
  }
 },
 "nbformat": 4,
 "nbformat_minor": 5
}

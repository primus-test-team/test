{
 "cells": [
  {
   "cell_type": "code",
   "execution_count": 2,
   "id": "e963e44d",
   "metadata": {},
   "outputs": [
    {
     "name": "stdout",
     "output_type": "stream",
     "text": [
      "떡잎마을 방범대 화이팅! -맹구가\n"
     ]
    }
   ],
   "source": [
    "print('떡잎마을 방범대 화이팅! -맹구가')"
   ]
  },
  {
   "cell_type": "code",
   "execution_count": null,
   "id": "450cb2a4",
   "metadata": {},
   "outputs": [],
   "source": [
    "print(\"훈이도 인사 한번 거하게 올립니다.\")"
   ]
  }
 ],
 "metadata": {
  "kernelspec": {
   "display_name": "pystudy_env",
   "language": "python",
   "name": "pystudy_env"
  },
  "language_info": {
   "codemirror_mode": {
    "name": "ipython",
    "version": 3
   },
   "file_extension": ".py",
   "mimetype": "text/x-python",
   "name": "python",
   "nbconvert_exporter": "python",
   "pygments_lexer": "ipython3",
   "version": "3.12.11"
  }
 },
 "nbformat": 4,
 "nbformat_minor": 5
}

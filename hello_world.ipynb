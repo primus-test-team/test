{
 "cells": [
  {
   "cell_type": "code",
   "execution_count": 1,
   "id": "e963e44d",
   "metadata": {},
   "outputs": [
    {
     "name": "stdout",
     "output_type": "stream",
     "text": [
      "떡잎마을 방범대 화이팅! -맹구가\n"
     ]
    }
   ],
   "source": [
    "print('떡잎마을 방범대 화이팅! -맹구가')"
   ]
  },
  {
   "cell_type": "code",
   "execution_count": 1,
   "id": "bb8893d8",
   "metadata": {},
   "outputs": [
    {
     "name": "stdout",
     "output_type": "stream",
     "text": [
      "떡잎마을 방법대 돌격!! -짱구-\n"
     ]
    }
   ],
   "source": [
    "print('떡잎마을 방법대 돌격!! -짱구-')"
   ]
  }
 ],
 "metadata": {
  "kernelspec": {
   "display_name": "pystudy_env",
   "language": "python",
   "name": "python3"
  },
  "language_info": {
   "codemirror_mode": {
    "name": "ipython",
    "version": 3
   },
   "file_extension": ".py",
   "mimetype": "text/x-python",
   "name": "python",
   "nbconvert_exporter": "python",
   "pygments_lexer": "ipython3",
   "version": "3.12.11"
  }
 },
 "nbformat": 4,
 "nbformat_minor": 5
}
